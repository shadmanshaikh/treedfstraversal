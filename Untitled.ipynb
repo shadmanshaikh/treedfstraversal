{
 "cells": [
  {
   "cell_type": "code",
   "execution_count": null,
   "id": "1e1c687f",
   "metadata": {},
   "outputs": [],
   "source": [
    "!pip install graph"
   ]
  },
  {
   "cell_type": "code",
   "execution_count": 2,
   "id": "ca4ceac4",
   "metadata": {},
   "outputs": [],
   "source": [
    "from binarytree import tree"
   ]
  },
  {
   "cell_type": "code",
   "execution_count": 4,
   "id": "50aef10b",
   "metadata": {},
   "outputs": [
    {
     "name": "stdout",
     "output_type": "stream",
     "text": [
      "Requirement already satisfied: graphviz in c:\\users\\xan\\anaconda3\\lib\\site-packages (0.20.1)\n"
     ]
    }
   ],
   "source": [
    "!pip install graphviz"
   ]
  },
  {
   "cell_type": "code",
   "execution_count": 3,
   "id": "a52829a1",
   "metadata": {},
   "outputs": [],
   "source": [
    "bt = tree()\n",
    "# print(tree)\n",
    "# bt\n"
   ]
  },
  {
   "cell_type": "code",
   "execution_count": null,
   "id": "b8f2d522",
   "metadata": {},
   "outputs": [],
   "source": []
  },
  {
   "cell_type": "code",
   "execution_count": 4,
   "id": "300f7cd2",
   "metadata": {},
   "outputs": [
    {
     "name": "stdout",
     "output_type": "stream",
     "text": [
      "\n",
      "  7\n",
      " / \\\n",
      "5   8\n",
      "     \\\n",
      "      1\n",
      "       \\\n",
      "        0\n",
      "\n"
     ]
    }
   ],
   "source": [
    "print(bt)"
   ]
  },
  {
   "cell_type": "code",
   "execution_count": 5,
   "id": "d1723df2",
   "metadata": {},
   "outputs": [
    {
     "ename": "AttributeError",
     "evalue": "'Digraph' object has no attribute '_repr_svg_'",
     "output_type": "error",
     "traceback": [
      "\u001b[1;31m---------------------------------------------------------------------------\u001b[0m",
      "\u001b[1;31mAttributeError\u001b[0m                            Traceback (most recent call last)",
      "File \u001b[1;32m~\\anaconda3\\lib\\site-packages\\IPython\\core\\formatters.py:343\u001b[0m, in \u001b[0;36mBaseFormatter.__call__\u001b[1;34m(self, obj)\u001b[0m\n\u001b[0;32m    341\u001b[0m     method \u001b[38;5;241m=\u001b[39m get_real_method(obj, \u001b[38;5;28mself\u001b[39m\u001b[38;5;241m.\u001b[39mprint_method)\n\u001b[0;32m    342\u001b[0m     \u001b[38;5;28;01mif\u001b[39;00m method \u001b[38;5;129;01mis\u001b[39;00m \u001b[38;5;129;01mnot\u001b[39;00m \u001b[38;5;28;01mNone\u001b[39;00m:\n\u001b[1;32m--> 343\u001b[0m         \u001b[38;5;28;01mreturn\u001b[39;00m \u001b[43mmethod\u001b[49m\u001b[43m(\u001b[49m\u001b[43m)\u001b[49m\n\u001b[0;32m    344\u001b[0m     \u001b[38;5;28;01mreturn\u001b[39;00m \u001b[38;5;28;01mNone\u001b[39;00m\n\u001b[0;32m    345\u001b[0m \u001b[38;5;28;01melse\u001b[39;00m:\n",
      "File \u001b[1;32m~\\anaconda3\\lib\\site-packages\\binarytree\\__init__.py:512\u001b[0m, in \u001b[0;36mNode._repr_svg_\u001b[1;34m(self)\u001b[0m\n\u001b[0;32m    506\u001b[0m \u001b[38;5;124;03m\"\"\"Display the binary tree using Graphviz (used for `Jupyter notebooks`_).\u001b[39;00m\n\u001b[0;32m    507\u001b[0m \n\u001b[0;32m    508\u001b[0m \u001b[38;5;124;03m.. _Jupyter notebooks: https://jupyter.org\u001b[39;00m\n\u001b[0;32m    509\u001b[0m \u001b[38;5;124;03m\"\"\"\u001b[39;00m\n\u001b[0;32m    510\u001b[0m \u001b[38;5;28;01mtry\u001b[39;00m:\n\u001b[0;32m    511\u001b[0m     \u001b[38;5;66;03m# noinspection PyProtectedMember\u001b[39;00m\n\u001b[1;32m--> 512\u001b[0m     \u001b[38;5;28;01mreturn\u001b[39;00m \u001b[38;5;28mstr\u001b[39m(\u001b[38;5;28;43mself\u001b[39;49m\u001b[38;5;241;43m.\u001b[39;49m\u001b[43mgraphviz\u001b[49m\u001b[43m(\u001b[49m\u001b[43m)\u001b[49m\u001b[38;5;241;43m.\u001b[39;49m\u001b[43m_repr_svg_\u001b[49m())\n\u001b[0;32m    514\u001b[0m \u001b[38;5;28;01mexcept\u001b[39;00m (SubprocessError, ExecutableNotFound, \u001b[38;5;167;01mFileNotFoundError\u001b[39;00m):\n\u001b[0;32m    515\u001b[0m     \u001b[38;5;28;01mreturn\u001b[39;00m \u001b[38;5;28mself\u001b[39m\u001b[38;5;241m.\u001b[39msvg()\n",
      "\u001b[1;31mAttributeError\u001b[0m: 'Digraph' object has no attribute '_repr_svg_'"
     ]
    },
    {
     "data": {
      "text/plain": [
       "Node(7)"
      ]
     },
     "execution_count": 5,
     "metadata": {},
     "output_type": "execute_result"
    }
   ],
   "source": [
    "bt"
   ]
  }
 ],
 "metadata": {
  "kernelspec": {
   "display_name": "Python 3 (ipykernel)",
   "language": "python",
   "name": "python3"
  },
  "language_info": {
   "codemirror_mode": {
    "name": "ipython",
    "version": 3
   },
   "file_extension": ".py",
   "mimetype": "text/x-python",
   "name": "python",
   "nbconvert_exporter": "python",
   "pygments_lexer": "ipython3",
   "version": "3.9.12"
  }
 },
 "nbformat": 4,
 "nbformat_minor": 5
}
